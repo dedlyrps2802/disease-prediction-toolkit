#google collab 
https://colab.research.google.com/drive/12GF_DlhhJ1W9r7lRwNpoLJIWnNg3zFQa#scrollTo=IZ42mOXbtf4b
Project.ipynb




!pip install pandas numpy scikit-learn matplotlib seaborn plotly kaggle


import pandas as pd
import numpy as np
import matplotlib.pyplot as plt
import seaborn as sns
from sklearn.model_selection import train_test_split
from sklearn.preprocessing import StandardScaler, LabelEncoder
from sklearn.linear_model import LogisticRegression
from sklearn.tree import DecisionTreeClassifier
from sklearn.ensemble import RandomForestClassifier
from sklearn.metrics import accuracy_score, precision_score, recall_score, f1_score, roc_auc_score, confusion_matrix, roc_curve

heart_data = pd.read_csv('heart.csv')



# Exploring dataset
print("Dataset Shape:", heart_data.shape)
print("\nFirst 5 rows:")
print(heart_data.head())
print("\nDataset Info:")
print(heart_data.info())
print("\nMissing Values:")
print(heart_data.isnull().sum())
print("\nStatistical Summary:")
print(heart_data.describe())


def preprocess_data(df, target_column):
    """
    Preprocess healthcare dataset: handle missing values, encode categorical features, scale data
    """

    df = df.fillna(df.median())


    X = df.drop(columns=[target_column])
    y = df[target_column]


    categorical_cols = X.select_dtypes(include=['object']).columns
    for col in categorical_cols:
        le = LabelEncoder()
        X[col] = le.fit_transform(X[col])


    numerical_cols = X.select_dtypes(include=[np.number]).columns
    scaler = StandardScaler()
    X[numerical_cols] = scaler.fit_transform(X[numerical_cols])

    # Split data
    X_train, X_test, y_train, y_test = train_test_split(X, y, test_size=0.2, random_state=42, stratify=y)

    return X_train, X_test, y_train, y_test

# Preprocess the data
X_train, X_test, y_train, y_test = preprocess_data(heart_data, 'target')

class DiseasePredictionModels:
    def __init__(self):
        self.models = {
            'Logistic Regression': LogisticRegression(random_state=42),
            'Decision Tree': DecisionTreeClassifier(random_state=42),
            'Random Forest': RandomForestClassifier(random_state=42, n_estimators=100)
        }
        self.results = {}

    def train_models(self, X_train, y_train):
        """Train all models"""
        for name, model in self.models.items():
            model.fit(X_train, y_train)
            print(f"{name} trained successfully")

    def evaluate_models(self, X_test, y_test):
        """Evaluate all models and store results"""
        evaluation_results = []

        for name, model in self.models.items():
            y_pred = model.predict(X_test)
            y_prob = model.predict_proba(X_test)[:, 1] if hasattr(model, "predict_proba") else None

            metrics = {
                'Model': name,
                'Accuracy': accuracy_score(y_test, y_pred),
                'Precision': precision_score(y_test, y_pred),
                'Recall': recall_score(y_test, y_pred),
                'F1-Score': f1_score(y_test, y_pred),
                'ROC-AUC': roc_auc_score(y_test, y_prob) if y_prob is not None else None
            }
            evaluation_results.append(metrics)

            # Store predictions for visualization
            self.results[name] = {'y_true': y_test, 'y_pred': y_pred, 'y_prob': y_prob}

        return pd.DataFrame(evaluation_results)

# Initialize and train models
model_pipeline = DiseasePredictionModels()
model_pipeline.train_models(X_train, y_train)

# Evaluate models
results_df = model_pipeline.evaluate_models(X_test, y_test)
print("\nModel Evaluation Results:")
print(results_df)


def create_visualizations(results_dict, model_names):
    """Create comprehensive visualizations for model evaluation"""
    fig, axes = plt.subplots(2, 2, figsize=(15, 12))

    # 1. Confusion Matrix
    for i, model_name in enumerate(model_names):
        cm = confusion_matrix(results_dict[model_name]['y_true'], results_dict[model_name]['y_pred'])
        sns.heatmap(cm, annot=True, fmt='d', ax=axes[0,0], cmap='Blues')
        axes[0,0].set_title('Confusion Matrix - ' + model_name)

    # 2. ROC Curve
    for model_name in model_names:
        if results_dict[model_name]['y_prob'] is not None:
            fpr, tpr, _ = roc_curve(results_dict[model_name]['y_true'], results_dict[model_name]['y_prob'])
            axes[0,1].plot(fpr, tpr, label=f'{model_name} (AUC = {roc_auc_score(results_dict[model_name]["y_true"], results_dict[model_name]["y_prob"]):.2f})')
    axes[0,1].plot([0, 1], [0, 1], 'k--')
    axes[0,1].set_xlabel('False Positive Rate')
    axes[0,1].set_ylabel('True Positive Rate')
    axes[0,1].set_title('ROC Curve')
    axes[0,1].legend()

    # 3. Metrics Comparison
    metrics_df = pd.DataFrame([{
        'Model': name,
        'Accuracy': accuracy_score(results['y_true'], results['y_pred']),
        'Precision': precision_score(results['y_true'], results['y_pred']),
        'Recall': recall_score(results['y_true'], results['y_pred']),
        'F1-Score': f1_score(results['y_true'], results['y_pred'])
    } for name, results in results_dict.items()])

    metrics_df.set_index('Model').plot(kind='bar', ax=axes[1,0])
    axes[1,0].set_title('Model Metrics Comparison')
    axes[1,0].tick_params(axis='x', rotation=45)

    # 4. Feature Importance (for tree-based models)
    if 'Random Forest' in model_names:
        feature_importance = model_pipeline.models['Random Forest'].feature_importances_
        features = X_train.columns
        importance_df = pd.DataFrame({'Feature': features, 'Importance': feature_importance})
        importance_df = importance_df.sort_values('Importance', ascending=False).head(10)

        axes[1,1].barh(importance_df['Feature'], importance_df['Importance'])
        axes[1,1].set_title('Top 10 Feature Importance (Random Forest)')
        axes[1,1].set_xlabel('Importance')

    plt.tight_layout()
    plt.savefig('model_evaluation_visualizations.png', dpi=300, bbox_inches='tight')
    plt.show()


create_visualizations(model_pipeline.results, list(model_pipeline.models.keys()))


from sklearn.model_selection import GridSearchCV

def optimize_random_forest(X_train, y_train):
    """Optimize Random Forest using GridSearch"""
    param_grid = {
        'n_estimators': [50, 100, 200],
        'max_depth': [None, 10, 20, 30],
        'min_samples_split': [2, 5, 10],
        'min_samples_leaf': [1, 2, 4]
    }

    rf = RandomForestClassifier(random_state=42)
    grid_search = GridSearchCV(rf, param_grid, cv=5, scoring='f1', n_jobs=-1)
    grid_search.fit(X_train, y_train)

    print("Best parameters:", grid_search.best_params_)
    print("Best cross-validation score:", grid_search.best_score_)

    return grid_search.best_estimator_


best_rf_model = optimize_random_forest(X_train, y_train)
